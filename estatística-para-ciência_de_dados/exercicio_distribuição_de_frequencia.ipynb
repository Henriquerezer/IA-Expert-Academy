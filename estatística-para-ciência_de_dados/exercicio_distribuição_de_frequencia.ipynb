{
  "nbformat": 4,
  "nbformat_minor": 0,
  "metadata": {
    "colab": {
      "name": "exercicio distribuição de frequencia.ipynb",
      "provenance": []
    },
    "kernelspec": {
      "name": "python3",
      "display_name": "Python 3"
    },
    "language_info": {
      "name": "python"
    }
  },
  "cells": [
    {
      "cell_type": "code",
      "execution_count": 4,
      "metadata": {
        "colab": {
          "base_uri": "https://localhost:8080/"
        },
        "id": "4jmkMeZLJ5Qz",
        "outputId": "b66a6ab4-9e75-42b0-acd8-831b6bb7d02a"
      },
      "outputs": [
        {
          "output_type": "stream",
          "name": "stdout",
          "text": [
            "Mounted at /content/gdrive\n"
          ]
        }
      ],
      "source": [
        "# código para permitir acesso ao meu google drive, assim poderei importar os dados, sem precisar fazer upload\n",
        "from google.colab import drive\n",
        "drive.mount('/content/gdrive')"
      ]
    },
    {
      "cell_type": "markdown",
      "source": [
        "#Exercício - Idade census"
      ],
      "metadata": {
        "id": "ZmL8Sq8tSp61"
      }
    },
    {
      "cell_type": "code",
      "source": [
        "import pandas as pd \n",
        "caminho = '/content/gdrive/MyDrive/Colab Notebooks/IA expert /Estatística para ciência de dados/exercícios/census.csv'\n",
        "data = pd.read_csv(caminho)\n",
        "data.head(3)"
      ],
      "metadata": {
        "colab": {
          "base_uri": "https://localhost:8080/",
          "height": 239
        },
        "id": "KubY_0nkKsIr",
        "outputId": "54c166fc-d1b4-4224-ffc1-81bf5f908f12"
      },
      "execution_count": 5,
      "outputs": [
        {
          "output_type": "execute_result",
          "data": {
            "text/plain": [
              "   age          workclass  final-weight   education  education-num  \\\n",
              "0   39          State-gov         77516   Bachelors             13   \n",
              "1   50   Self-emp-not-inc         83311   Bachelors             13   \n",
              "2   38            Private        215646     HS-grad              9   \n",
              "\n",
              "        marital-status          occupation    relationship    race    sex  \\\n",
              "0        Never-married        Adm-clerical   Not-in-family   White   Male   \n",
              "1   Married-civ-spouse     Exec-managerial         Husband   White   Male   \n",
              "2             Divorced   Handlers-cleaners   Not-in-family   White   Male   \n",
              "\n",
              "   capital-gain  capital-loos  hour-per-week  native-country  income  \n",
              "0          2174             0             40   United-States   <=50K  \n",
              "1             0             0             13   United-States   <=50K  \n",
              "2             0             0             40   United-States   <=50K  "
            ],
            "text/html": [
              "\n",
              "  <div id=\"df-161bda54-9f9a-420f-865d-99003db784ea\">\n",
              "    <div class=\"colab-df-container\">\n",
              "      <div>\n",
              "<style scoped>\n",
              "    .dataframe tbody tr th:only-of-type {\n",
              "        vertical-align: middle;\n",
              "    }\n",
              "\n",
              "    .dataframe tbody tr th {\n",
              "        vertical-align: top;\n",
              "    }\n",
              "\n",
              "    .dataframe thead th {\n",
              "        text-align: right;\n",
              "    }\n",
              "</style>\n",
              "<table border=\"1\" class=\"dataframe\">\n",
              "  <thead>\n",
              "    <tr style=\"text-align: right;\">\n",
              "      <th></th>\n",
              "      <th>age</th>\n",
              "      <th>workclass</th>\n",
              "      <th>final-weight</th>\n",
              "      <th>education</th>\n",
              "      <th>education-num</th>\n",
              "      <th>marital-status</th>\n",
              "      <th>occupation</th>\n",
              "      <th>relationship</th>\n",
              "      <th>race</th>\n",
              "      <th>sex</th>\n",
              "      <th>capital-gain</th>\n",
              "      <th>capital-loos</th>\n",
              "      <th>hour-per-week</th>\n",
              "      <th>native-country</th>\n",
              "      <th>income</th>\n",
              "    </tr>\n",
              "  </thead>\n",
              "  <tbody>\n",
              "    <tr>\n",
              "      <th>0</th>\n",
              "      <td>39</td>\n",
              "      <td>State-gov</td>\n",
              "      <td>77516</td>\n",
              "      <td>Bachelors</td>\n",
              "      <td>13</td>\n",
              "      <td>Never-married</td>\n",
              "      <td>Adm-clerical</td>\n",
              "      <td>Not-in-family</td>\n",
              "      <td>White</td>\n",
              "      <td>Male</td>\n",
              "      <td>2174</td>\n",
              "      <td>0</td>\n",
              "      <td>40</td>\n",
              "      <td>United-States</td>\n",
              "      <td>&lt;=50K</td>\n",
              "    </tr>\n",
              "    <tr>\n",
              "      <th>1</th>\n",
              "      <td>50</td>\n",
              "      <td>Self-emp-not-inc</td>\n",
              "      <td>83311</td>\n",
              "      <td>Bachelors</td>\n",
              "      <td>13</td>\n",
              "      <td>Married-civ-spouse</td>\n",
              "      <td>Exec-managerial</td>\n",
              "      <td>Husband</td>\n",
              "      <td>White</td>\n",
              "      <td>Male</td>\n",
              "      <td>0</td>\n",
              "      <td>0</td>\n",
              "      <td>13</td>\n",
              "      <td>United-States</td>\n",
              "      <td>&lt;=50K</td>\n",
              "    </tr>\n",
              "    <tr>\n",
              "      <th>2</th>\n",
              "      <td>38</td>\n",
              "      <td>Private</td>\n",
              "      <td>215646</td>\n",
              "      <td>HS-grad</td>\n",
              "      <td>9</td>\n",
              "      <td>Divorced</td>\n",
              "      <td>Handlers-cleaners</td>\n",
              "      <td>Not-in-family</td>\n",
              "      <td>White</td>\n",
              "      <td>Male</td>\n",
              "      <td>0</td>\n",
              "      <td>0</td>\n",
              "      <td>40</td>\n",
              "      <td>United-States</td>\n",
              "      <td>&lt;=50K</td>\n",
              "    </tr>\n",
              "  </tbody>\n",
              "</table>\n",
              "</div>\n",
              "      <button class=\"colab-df-convert\" onclick=\"convertToInteractive('df-161bda54-9f9a-420f-865d-99003db784ea')\"\n",
              "              title=\"Convert this dataframe to an interactive table.\"\n",
              "              style=\"display:none;\">\n",
              "        \n",
              "  <svg xmlns=\"http://www.w3.org/2000/svg\" height=\"24px\"viewBox=\"0 0 24 24\"\n",
              "       width=\"24px\">\n",
              "    <path d=\"M0 0h24v24H0V0z\" fill=\"none\"/>\n",
              "    <path d=\"M18.56 5.44l.94 2.06.94-2.06 2.06-.94-2.06-.94-.94-2.06-.94 2.06-2.06.94zm-11 1L8.5 8.5l.94-2.06 2.06-.94-2.06-.94L8.5 2.5l-.94 2.06-2.06.94zm10 10l.94 2.06.94-2.06 2.06-.94-2.06-.94-.94-2.06-.94 2.06-2.06.94z\"/><path d=\"M17.41 7.96l-1.37-1.37c-.4-.4-.92-.59-1.43-.59-.52 0-1.04.2-1.43.59L10.3 9.45l-7.72 7.72c-.78.78-.78 2.05 0 2.83L4 21.41c.39.39.9.59 1.41.59.51 0 1.02-.2 1.41-.59l7.78-7.78 2.81-2.81c.8-.78.8-2.07 0-2.86zM5.41 20L4 18.59l7.72-7.72 1.47 1.35L5.41 20z\"/>\n",
              "  </svg>\n",
              "      </button>\n",
              "      \n",
              "  <style>\n",
              "    .colab-df-container {\n",
              "      display:flex;\n",
              "      flex-wrap:wrap;\n",
              "      gap: 12px;\n",
              "    }\n",
              "\n",
              "    .colab-df-convert {\n",
              "      background-color: #E8F0FE;\n",
              "      border: none;\n",
              "      border-radius: 50%;\n",
              "      cursor: pointer;\n",
              "      display: none;\n",
              "      fill: #1967D2;\n",
              "      height: 32px;\n",
              "      padding: 0 0 0 0;\n",
              "      width: 32px;\n",
              "    }\n",
              "\n",
              "    .colab-df-convert:hover {\n",
              "      background-color: #E2EBFA;\n",
              "      box-shadow: 0px 1px 2px rgba(60, 64, 67, 0.3), 0px 1px 3px 1px rgba(60, 64, 67, 0.15);\n",
              "      fill: #174EA6;\n",
              "    }\n",
              "\n",
              "    [theme=dark] .colab-df-convert {\n",
              "      background-color: #3B4455;\n",
              "      fill: #D2E3FC;\n",
              "    }\n",
              "\n",
              "    [theme=dark] .colab-df-convert:hover {\n",
              "      background-color: #434B5C;\n",
              "      box-shadow: 0px 1px 3px 1px rgba(0, 0, 0, 0.15);\n",
              "      filter: drop-shadow(0px 1px 2px rgba(0, 0, 0, 0.3));\n",
              "      fill: #FFFFFF;\n",
              "    }\n",
              "  </style>\n",
              "\n",
              "      <script>\n",
              "        const buttonEl =\n",
              "          document.querySelector('#df-161bda54-9f9a-420f-865d-99003db784ea button.colab-df-convert');\n",
              "        buttonEl.style.display =\n",
              "          google.colab.kernel.accessAllowed ? 'block' : 'none';\n",
              "\n",
              "        async function convertToInteractive(key) {\n",
              "          const element = document.querySelector('#df-161bda54-9f9a-420f-865d-99003db784ea');\n",
              "          const dataTable =\n",
              "            await google.colab.kernel.invokeFunction('convertToInteractive',\n",
              "                                                     [key], {});\n",
              "          if (!dataTable) return;\n",
              "\n",
              "          const docLinkHtml = 'Like what you see? Visit the ' +\n",
              "            '<a target=\"_blank\" href=https://colab.research.google.com/notebooks/data_table.ipynb>data table notebook</a>'\n",
              "            + ' to learn more about interactive tables.';\n",
              "          element.innerHTML = '';\n",
              "          dataTable['output_type'] = 'display_data';\n",
              "          await google.colab.output.renderOutput(dataTable, element);\n",
              "          const docLink = document.createElement('div');\n",
              "          docLink.innerHTML = docLinkHtml;\n",
              "          element.appendChild(docLink);\n",
              "        }\n",
              "      </script>\n",
              "    </div>\n",
              "  </div>\n",
              "  "
            ]
          },
          "metadata": {},
          "execution_count": 5
        }
      ]
    },
    {
      "cell_type": "code",
      "source": [
        "# distribuição de frequencia utilizando o atributo idade "
      ],
      "metadata": {
        "id": "drIt0e2RMCVb"
      },
      "execution_count": 6,
      "outputs": []
    },
    {
      "cell_type": "code",
      "source": [
        "data['age'].max(), data['age'].min()"
      ],
      "metadata": {
        "colab": {
          "base_uri": "https://localhost:8080/"
        },
        "id": "p-ycTWztMf3f",
        "outputId": "2deb0a23-59cd-49b4-cc9a-2ff39c23a5bd"
      },
      "execution_count": 8,
      "outputs": [
        {
          "output_type": "execute_result",
          "data": {
            "text/plain": [
              "(90, 17)"
            ]
          },
          "metadata": {},
          "execution_count": 8
        }
      ]
    },
    {
      "cell_type": "code",
      "source": [
        "data['age'].plot.hist();"
      ],
      "metadata": {
        "colab": {
          "base_uri": "https://localhost:8080/",
          "height": 265
        },
        "id": "rCBZLXSDNAK1",
        "outputId": "0b73e7ce-2c5c-43f0-c121-6378fac8139e"
      },
      "execution_count": 10,
      "outputs": [
        {
          "output_type": "display_data",
          "data": {
            "text/plain": [
              "<Figure size 432x288 with 1 Axes>"
            ],
            "image/png": "[encoded data removed]"
          },
          "metadata": {
            "needs_background": "light"
          }
        }
      ]
    },
    {
      "cell_type": "code",
      "source": [
        "# criando faixas personalizadas, utilizando a função (cut), para segmentar os dados de divisões (bins)\n",
        "data['age'] = pd.cut(data['age'], bins=[0,17,25,40,60,90], labels = ['Faixa1', 'Faixa2', 'Faixa3', 'Faixa4', 'Faixa5'])"
      ],
      "metadata": {
        "id": "WDsiTS5aNKMN"
      },
      "execution_count": 12,
      "outputs": []
    },
    {
      "cell_type": "code",
      "source": [
        "data.head()"
      ],
      "metadata": {
        "colab": {
          "base_uri": "https://localhost:8080/",
          "height": 354
        },
        "id": "y_uLLA9nPHtD",
        "outputId": "e9e311c1-b5ae-4169-fee1-69b62a2619d7"
      },
      "execution_count": 13,
      "outputs": [
        {
          "output_type": "execute_result",
          "data": {
            "text/plain": [
              "      age          workclass  final-weight   education  education-num  \\\n",
              "0  Faixa3          State-gov         77516   Bachelors             13   \n",
              "1  Faixa4   Self-emp-not-inc         83311   Bachelors             13   \n",
              "2  Faixa3            Private        215646     HS-grad              9   \n",
              "3  Faixa4            Private        234721        11th              7   \n",
              "4  Faixa3            Private        338409   Bachelors             13   \n",
              "\n",
              "        marital-status          occupation    relationship    race      sex  \\\n",
              "0        Never-married        Adm-clerical   Not-in-family   White     Male   \n",
              "1   Married-civ-spouse     Exec-managerial         Husband   White     Male   \n",
              "2             Divorced   Handlers-cleaners   Not-in-family   White     Male   \n",
              "3   Married-civ-spouse   Handlers-cleaners         Husband   Black     Male   \n",
              "4   Married-civ-spouse      Prof-specialty            Wife   Black   Female   \n",
              "\n",
              "   capital-gain  capital-loos  hour-per-week  native-country  income  \n",
              "0          2174             0             40   United-States   <=50K  \n",
              "1             0             0             13   United-States   <=50K  \n",
              "2             0             0             40   United-States   <=50K  \n",
              "3             0             0             40   United-States   <=50K  \n",
              "4             0             0             40            Cuba   <=50K  "
            ],
            "text/html": [
              "\n",
              "  <div id=\"df-6d56a92c-ebb8-4a38-8ff6-a7434bfe569c\">\n",
              "    <div class=\"colab-df-container\">\n",
              "      <div>\n",
              "<style scoped>\n",
              "    .dataframe tbody tr th:only-of-type {\n",
              "        vertical-align: middle;\n",
              "    }\n",
              "\n",
              "    .dataframe tbody tr th {\n",
              "        vertical-align: top;\n",
              "    }\n",
              "\n",
              "    .dataframe thead th {\n",
              "        text-align: right;\n",
              "    }\n",
              "</style>\n",
              "<table border=\"1\" class=\"dataframe\">\n",
              "  <thead>\n",
              "    <tr style=\"text-align: right;\">\n",
              "      <th></th>\n",
              "      <th>age</th>\n",
              "      <th>workclass</th>\n",
              "      <th>final-weight</th>\n",
              "      <th>education</th>\n",
              "      <th>education-num</th>\n",
              "      <th>marital-status</th>\n",
              "      <th>occupation</th>\n",
              "      <th>relationship</th>\n",
              "      <th>race</th>\n",
              "      <th>sex</th>\n",
              "      <th>capital-gain</th>\n",
              "      <th>capital-loos</th>\n",
              "      <th>hour-per-week</th>\n",
              "      <th>native-country</th>\n",
              "      <th>income</th>\n",
              "    </tr>\n",
              "  </thead>\n",
              "  <tbody>\n",
              "    <tr>\n",
              "      <th>0</th>\n",
              "      <td>Faixa3</td>\n",
              "      <td>State-gov</td>\n",
              "      <td>77516</td>\n",
              "      <td>Bachelors</td>\n",
              "      <td>13</td>\n",
              "      <td>Never-married</td>\n",
              "      <td>Adm-clerical</td>\n",
              "      <td>Not-in-family</td>\n",
              "      <td>White</td>\n",
              "      <td>Male</td>\n",
              "      <td>2174</td>\n",
              "      <td>0</td>\n",
              "      <td>40</td>\n",
              "      <td>United-States</td>\n",
              "      <td>&lt;=50K</td>\n",
              "    </tr>\n",
              "    <tr>\n",
              "      <th>1</th>\n",
              "      <td>Faixa4</td>\n",
              "      <td>Self-emp-not-inc</td>\n",
              "      <td>83311</td>\n",
              "      <td>Bachelors</td>\n",
              "      <td>13</td>\n",
              "      <td>Married-civ-spouse</td>\n",
              "      <td>Exec-managerial</td>\n",
              "      <td>Husband</td>\n",
              "      <td>White</td>\n",
              "      <td>Male</td>\n",
              "      <td>0</td>\n",
              "      <td>0</td>\n",
              "      <td>13</td>\n",
              "      <td>United-States</td>\n",
              "      <td>&lt;=50K</td>\n",
              "    </tr>\n",
              "    <tr>\n",
              "      <th>2</th>\n",
              "      <td>Faixa3</td>\n",
              "      <td>Private</td>\n",
              "      <td>215646</td>\n",
              "      <td>HS-grad</td>\n",
              "      <td>9</td>\n",
              "      <td>Divorced</td>\n",
              "      <td>Handlers-cleaners</td>\n",
              "      <td>Not-in-family</td>\n",
              "      <td>White</td>\n",
              "      <td>Male</td>\n",
              "      <td>0</td>\n",
              "      <td>0</td>\n",
              "      <td>40</td>\n",
              "      <td>United-States</td>\n",
              "      <td>&lt;=50K</td>\n",
              "    </tr>\n",
              "    <tr>\n",
              "      <th>3</th>\n",
              "      <td>Faixa4</td>\n",
              "      <td>Private</td>\n",
              "      <td>234721</td>\n",
              "      <td>11th</td>\n",
              "      <td>7</td>\n",
              "      <td>Married-civ-spouse</td>\n",
              "      <td>Handlers-cleaners</td>\n",
              "      <td>Husband</td>\n",
              "      <td>Black</td>\n",
              "      <td>Male</td>\n",
              "      <td>0</td>\n",
              "      <td>0</td>\n",
              "      <td>40</td>\n",
              "      <td>United-States</td>\n",
              "      <td>&lt;=50K</td>\n",
              "    </tr>\n",
              "    <tr>\n",
              "      <th>4</th>\n",
              "      <td>Faixa3</td>\n",
              "      <td>Private</td>\n",
              "      <td>338409</td>\n",
              "      <td>Bachelors</td>\n",
              "      <td>13</td>\n",
              "      <td>Married-civ-spouse</td>\n",
              "      <td>Prof-specialty</td>\n",
              "      <td>Wife</td>\n",
              "      <td>Black</td>\n",
              "      <td>Female</td>\n",
              "      <td>0</td>\n",
              "      <td>0</td>\n",
              "      <td>40</td>\n",
              "      <td>Cuba</td>\n",
              "      <td>&lt;=50K</td>\n",
              "    </tr>\n",
              "  </tbody>\n",
              "</table>\n",
              "</div>\n",
              "      <button class=\"colab-df-convert\" onclick=\"convertToInteractive('df-6d56a92c-ebb8-4a38-8ff6-a7434bfe569c')\"\n",
              "              title=\"Convert this dataframe to an interactive table.\"\n",
              "              style=\"display:none;\">\n",
              "        \n",
              "  <svg xmlns=\"http://www.w3.org/2000/svg\" height=\"24px\"viewBox=\"0 0 24 24\"\n",
              "       width=\"24px\">\n",
              "    <path d=\"M0 0h24v24H0V0z\" fill=\"none\"/>\n",
              "    <path d=\"M18.56 5.44l.94 2.06.94-2.06 2.06-.94-2.06-.94-.94-2.06-.94 2.06-2.06.94zm-11 1L8.5 8.5l.94-2.06 2.06-.94-2.06-.94L8.5 2.5l-.94 2.06-2.06.94zm10 10l.94 2.06.94-2.06 2.06-.94-2.06-.94-.94-2.06-.94 2.06-2.06.94z\"/><path d=\"M17.41 7.96l-1.37-1.37c-.4-.4-.92-.59-1.43-.59-.52 0-1.04.2-1.43.59L10.3 9.45l-7.72 7.72c-.78.78-.78 2.05 0 2.83L4 21.41c.39.39.9.59 1.41.59.51 0 1.02-.2 1.41-.59l7.78-7.78 2.81-2.81c.8-.78.8-2.07 0-2.86zM5.41 20L4 18.59l7.72-7.72 1.47 1.35L5.41 20z\"/>\n",
              "  </svg>\n",
              "      </button>\n",
              "      \n",
              "  <style>\n",
              "    .colab-df-container {\n",
              "      display:flex;\n",
              "      flex-wrap:wrap;\n",
              "      gap: 12px;\n",
              "    }\n",
              "\n",
              "    .colab-df-convert {\n",
              "      background-color: #E8F0FE;\n",
              "      border: none;\n",
              "      border-radius: 50%;\n",
              "      cursor: pointer;\n",
              "      display: none;\n",
              "      fill: #1967D2;\n",
              "      height: 32px;\n",
              "      padding: 0 0 0 0;\n",
              "      width: 32px;\n",
              "    }\n",
              "\n",
              "    .colab-df-convert:hover {\n",
              "      background-color: #E2EBFA;\n",
              "      box-shadow: 0px 1px 2px rgba(60, 64, 67, 0.3), 0px 1px 3px 1px rgba(60, 64, 67, 0.15);\n",
              "      fill: #174EA6;\n",
              "    }\n",
              "\n",
              "    [theme=dark] .colab-df-convert {\n",
              "      background-color: #3B4455;\n",
              "      fill: #D2E3FC;\n",
              "    }\n",
              "\n",
              "    [theme=dark] .colab-df-convert:hover {\n",
              "      background-color: #434B5C;\n",
              "      box-shadow: 0px 1px 3px 1px rgba(0, 0, 0, 0.15);\n",
              "      filter: drop-shadow(0px 1px 2px rgba(0, 0, 0, 0.3));\n",
              "      fill: #FFFFFF;\n",
              "    }\n",
              "  </style>\n",
              "\n",
              "      <script>\n",
              "        const buttonEl =\n",
              "          document.querySelector('#df-6d56a92c-ebb8-4a38-8ff6-a7434bfe569c button.colab-df-convert');\n",
              "        buttonEl.style.display =\n",
              "          google.colab.kernel.accessAllowed ? 'block' : 'none';\n",
              "\n",
              "        async function convertToInteractive(key) {\n",
              "          const element = document.querySelector('#df-6d56a92c-ebb8-4a38-8ff6-a7434bfe569c');\n",
              "          const dataTable =\n",
              "            await google.colab.kernel.invokeFunction('convertToInteractive',\n",
              "                                                     [key], {});\n",
              "          if (!dataTable) return;\n",
              "\n",
              "          const docLinkHtml = 'Like what you see? Visit the ' +\n",
              "            '<a target=\"_blank\" href=https://colab.research.google.com/notebooks/data_table.ipynb>data table notebook</a>'\n",
              "            + ' to learn more about interactive tables.';\n",
              "          element.innerHTML = '';\n",
              "          dataTable['output_type'] = 'display_data';\n",
              "          await google.colab.output.renderOutput(dataTable, element);\n",
              "          const docLink = document.createElement('div');\n",
              "          docLink.innerHTML = docLinkHtml;\n",
              "          element.appendChild(docLink);\n",
              "        }\n",
              "      </script>\n",
              "    </div>\n",
              "  </div>\n",
              "  "
            ]
          },
          "metadata": {},
          "execution_count": 13
        }
      ]
    },
    {
      "cell_type": "code",
      "source": [
        "#conferindo as faixas de idades \n",
        "data['age'].unique()"
      ],
      "metadata": {
        "colab": {
          "base_uri": "https://localhost:8080/"
        },
        "id": "LdZPPclWPSL8",
        "outputId": "e93126ef-4df0-4643-edf1-5ff4df112c3f"
      },
      "execution_count": 14,
      "outputs": [
        {
          "output_type": "execute_result",
          "data": {
            "text/plain": [
              "['Faixa3', 'Faixa4', 'Faixa2', 'Faixa5', 'Faixa1']\n",
              "Categories (5, object): ['Faixa1' < 'Faixa2' < 'Faixa3' < 'Faixa4' < 'Faixa5']"
            ]
          },
          "metadata": {},
          "execution_count": 14
        }
      ]
    },
    {
      "cell_type": "markdown",
      "source": [
        "#Regras de associação "
      ],
      "metadata": {
        "id": "72L1LBf7P7eb"
      }
    },
    {
      "cell_type": "code",
      "source": [
        "data.head(3)"
      ],
      "metadata": {
        "colab": {
          "base_uri": "https://localhost:8080/",
          "height": 257
        },
        "id": "2iZhywx4P0gM",
        "outputId": "efd27df4-25b8-4717-ccab-dfcc2a9f8c1a"
      },
      "execution_count": 15,
      "outputs": [
        {
          "output_type": "execute_result",
          "data": {
            "text/plain": [
              "      age          workclass  final-weight   education  education-num  \\\n",
              "0  Faixa3          State-gov         77516   Bachelors             13   \n",
              "1  Faixa4   Self-emp-not-inc         83311   Bachelors             13   \n",
              "2  Faixa3            Private        215646     HS-grad              9   \n",
              "\n",
              "        marital-status          occupation    relationship    race    sex  \\\n",
              "0        Never-married        Adm-clerical   Not-in-family   White   Male   \n",
              "1   Married-civ-spouse     Exec-managerial         Husband   White   Male   \n",
              "2             Divorced   Handlers-cleaners   Not-in-family   White   Male   \n",
              "\n",
              "   capital-gain  capital-loos  hour-per-week  native-country  income  \n",
              "0          2174             0             40   United-States   <=50K  \n",
              "1             0             0             13   United-States   <=50K  \n",
              "2             0             0             40   United-States   <=50K  "
            ],
            "text/html": [
              "\n",
              "  <div id=\"df-ae4de5f3-d192-48f9-af50-a733dbef7fc7\">\n",
              "    <div class=\"colab-df-container\">\n",
              "      <div>\n",
              "<style scoped>\n",
              "    .dataframe tbody tr th:only-of-type {\n",
              "        vertical-align: middle;\n",
              "    }\n",
              "\n",
              "    .dataframe tbody tr th {\n",
              "        vertical-align: top;\n",
              "    }\n",
              "\n",
              "    .dataframe thead th {\n",
              "        text-align: right;\n",
              "    }\n",
              "</style>\n",
              "<table border=\"1\" class=\"dataframe\">\n",
              "  <thead>\n",
              "    <tr style=\"text-align: right;\">\n",
              "      <th></th>\n",
              "      <th>age</th>\n",
              "      <th>workclass</th>\n",
              "      <th>final-weight</th>\n",
              "      <th>education</th>\n",
              "      <th>education-num</th>\n",
              "      <th>marital-status</th>\n",
              "      <th>occupation</th>\n",
              "      <th>relationship</th>\n",
              "      <th>race</th>\n",
              "      <th>sex</th>\n",
              "      <th>capital-gain</th>\n",
              "      <th>capital-loos</th>\n",
              "      <th>hour-per-week</th>\n",
              "      <th>native-country</th>\n",
              "      <th>income</th>\n",
              "    </tr>\n",
              "  </thead>\n",
              "  <tbody>\n",
              "    <tr>\n",
              "      <th>0</th>\n",
              "      <td>Faixa3</td>\n",
              "      <td>State-gov</td>\n",
              "      <td>77516</td>\n",
              "      <td>Bachelors</td>\n",
              "      <td>13</td>\n",
              "      <td>Never-married</td>\n",
              "      <td>Adm-clerical</td>\n",
              "      <td>Not-in-family</td>\n",
              "      <td>White</td>\n",
              "      <td>Male</td>\n",
              "      <td>2174</td>\n",
              "      <td>0</td>\n",
              "      <td>40</td>\n",
              "      <td>United-States</td>\n",
              "      <td>&lt;=50K</td>\n",
              "    </tr>\n",
              "    <tr>\n",
              "      <th>1</th>\n",
              "      <td>Faixa4</td>\n",
              "      <td>Self-emp-not-inc</td>\n",
              "      <td>83311</td>\n",
              "      <td>Bachelors</td>\n",
              "      <td>13</td>\n",
              "      <td>Married-civ-spouse</td>\n",
              "      <td>Exec-managerial</td>\n",
              "      <td>Husband</td>\n",
              "      <td>White</td>\n",
              "      <td>Male</td>\n",
              "      <td>0</td>\n",
              "      <td>0</td>\n",
              "      <td>13</td>\n",
              "      <td>United-States</td>\n",
              "      <td>&lt;=50K</td>\n",
              "    </tr>\n",
              "    <tr>\n",
              "      <th>2</th>\n",
              "      <td>Faixa3</td>\n",
              "      <td>Private</td>\n",
              "      <td>215646</td>\n",
              "      <td>HS-grad</td>\n",
              "      <td>9</td>\n",
              "      <td>Divorced</td>\n",
              "      <td>Handlers-cleaners</td>\n",
              "      <td>Not-in-family</td>\n",
              "      <td>White</td>\n",
              "      <td>Male</td>\n",
              "      <td>0</td>\n",
              "      <td>0</td>\n",
              "      <td>40</td>\n",
              "      <td>United-States</td>\n",
              "      <td>&lt;=50K</td>\n",
              "    </tr>\n",
              "  </tbody>\n",
              "</table>\n",
              "</div>\n",
              "      <button class=\"colab-df-convert\" onclick=\"convertToInteractive('df-ae4de5f3-d192-48f9-af50-a733dbef7fc7')\"\n",
              "              title=\"Convert this dataframe to an interactive table.\"\n",
              "              style=\"display:none;\">\n",
              "        \n",
              "  <svg xmlns=\"http://www.w3.org/2000/svg\" height=\"24px\"viewBox=\"0 0 24 24\"\n",
              "       width=\"24px\">\n",
              "    <path d=\"M0 0h24v24H0V0z\" fill=\"none\"/>\n",
              "    <path d=\"M18.56 5.44l.94 2.06.94-2.06 2.06-.94-2.06-.94-.94-2.06-.94 2.06-2.06.94zm-11 1L8.5 8.5l.94-2.06 2.06-.94-2.06-.94L8.5 2.5l-.94 2.06-2.06.94zm10 10l.94 2.06.94-2.06 2.06-.94-2.06-.94-.94-2.06-.94 2.06-2.06.94z\"/><path d=\"M17.41 7.96l-1.37-1.37c-.4-.4-.92-.59-1.43-.59-.52 0-1.04.2-1.43.59L10.3 9.45l-7.72 7.72c-.78.78-.78 2.05 0 2.83L4 21.41c.39.39.9.59 1.41.59.51 0 1.02-.2 1.41-.59l7.78-7.78 2.81-2.81c.8-.78.8-2.07 0-2.86zM5.41 20L4 18.59l7.72-7.72 1.47 1.35L5.41 20z\"/>\n",
              "  </svg>\n",
              "      </button>\n",
              "      \n",
              "  <style>\n",
              "    .colab-df-container {\n",
              "      display:flex;\n",
              "      flex-wrap:wrap;\n",
              "      gap: 12px;\n",
              "    }\n",
              "\n",
              "    .colab-df-convert {\n",
              "      background-color: #E8F0FE;\n",
              "      border: none;\n",
              "      border-radius: 50%;\n",
              "      cursor: pointer;\n",
              "      display: none;\n",
              "      fill: #1967D2;\n",
              "      height: 32px;\n",
              "      padding: 0 0 0 0;\n",
              "      width: 32px;\n",
              "    }\n",
              "\n",
              "    .colab-df-convert:hover {\n",
              "      background-color: #E2EBFA;\n",
              "      box-shadow: 0px 1px 2px rgba(60, 64, 67, 0.3), 0px 1px 3px 1px rgba(60, 64, 67, 0.15);\n",
              "      fill: #174EA6;\n",
              "    }\n",
              "\n",
              "    [theme=dark] .colab-df-convert {\n",
              "      background-color: #3B4455;\n",
              "      fill: #D2E3FC;\n",
              "    }\n",
              "\n",
              "    [theme=dark] .colab-df-convert:hover {\n",
              "      background-color: #434B5C;\n",
              "      box-shadow: 0px 1px 3px 1px rgba(0, 0, 0, 0.15);\n",
              "      filter: drop-shadow(0px 1px 2px rgba(0, 0, 0, 0.3));\n",
              "      fill: #FFFFFF;\n",
              "    }\n",
              "  </style>\n",
              "\n",
              "      <script>\n",
              "        const buttonEl =\n",
              "          document.querySelector('#df-ae4de5f3-d192-48f9-af50-a733dbef7fc7 button.colab-df-convert');\n",
              "        buttonEl.style.display =\n",
              "          google.colab.kernel.accessAllowed ? 'block' : 'none';\n",
              "\n",
              "        async function convertToInteractive(key) {\n",
              "          const element = document.querySelector('#df-ae4de5f3-d192-48f9-af50-a733dbef7fc7');\n",
              "          const dataTable =\n",
              "            await google.colab.kernel.invokeFunction('convertToInteractive',\n",
              "                                                     [key], {});\n",
              "          if (!dataTable) return;\n",
              "\n",
              "          const docLinkHtml = 'Like what you see? Visit the ' +\n",
              "            '<a target=\"_blank\" href=https://colab.research.google.com/notebooks/data_table.ipynb>data table notebook</a>'\n",
              "            + ' to learn more about interactive tables.';\n",
              "          element.innerHTML = '';\n",
              "          dataTable['output_type'] = 'display_data';\n",
              "          await google.colab.output.renderOutput(dataTable, element);\n",
              "          const docLink = document.createElement('div');\n",
              "          docLink.innerHTML = docLinkHtml;\n",
              "          element.appendChild(docLink);\n",
              "        }\n",
              "      </script>\n",
              "    </div>\n",
              "  </div>\n",
              "  "
            ]
          },
          "metadata": {},
          "execution_count": 15
        }
      ]
    },
    {
      "cell_type": "code",
      "source": [
        "# REGRA DE ASSOCIAÇÃO COM APRIORI, importante lembrar que, não podemos utilizar dados numéricos\n",
        "# os dados devem ser categóricos na forma de \"STRING\", por isso a distribuição de frequência (exercício acima)"
      ],
      "metadata": {
        "id": "olA5Gz0nS04t"
      },
      "execution_count": 16,
      "outputs": []
    },
    {
      "cell_type": "code",
      "source": [
        "#passei apenas dados categóricos, por serem varias colunas devo utilziar 2 conchetes \n",
        "data_apriori = data[['age', 'workclass', 'education', 'marital-status', 'relationship', 'occupation', 'sex', 'native-country', 'income']]"
      ],
      "metadata": {
        "id": "sXEvL_p1TaNA"
      },
      "execution_count": 18,
      "outputs": []
    },
    {
      "cell_type": "code",
      "source": [
        "data_apriori.head(3)"
      ],
      "metadata": {
        "colab": {
          "base_uri": "https://localhost:8080/",
          "height": 143
        },
        "id": "QcZ9MgO5T6uS",
        "outputId": "13222ade-e20f-4680-9d2b-acd961830180"
      },
      "execution_count": 19,
      "outputs": [
        {
          "output_type": "execute_result",
          "data": {
            "text/plain": [
              "      age          workclass   education       marital-status    relationship  \\\n",
              "0  Faixa3          State-gov   Bachelors        Never-married   Not-in-family   \n",
              "1  Faixa4   Self-emp-not-inc   Bachelors   Married-civ-spouse         Husband   \n",
              "2  Faixa3            Private     HS-grad             Divorced   Not-in-family   \n",
              "\n",
              "           occupation    sex  native-country  income  \n",
              "0        Adm-clerical   Male   United-States   <=50K  \n",
              "1     Exec-managerial   Male   United-States   <=50K  \n",
              "2   Handlers-cleaners   Male   United-States   <=50K  "
            ],
            "text/html": [
              "\n",
              "  <div id=\"df-f844860e-e4ef-40ee-943c-063d07c40067\">\n",
              "    <div class=\"colab-df-container\">\n",
              "      <div>\n",
              "<style scoped>\n",
              "    .dataframe tbody tr th:only-of-type {\n",
              "        vertical-align: middle;\n",
              "    }\n",
              "\n",
              "    .dataframe tbody tr th {\n",
              "        vertical-align: top;\n",
              "    }\n",
              "\n",
              "    .dataframe thead th {\n",
              "        text-align: right;\n",
              "    }\n",
              "</style>\n",
              "<table border=\"1\" class=\"dataframe\">\n",
              "  <thead>\n",
              "    <tr style=\"text-align: right;\">\n",
              "      <th></th>\n",
              "      <th>age</th>\n",
              "      <th>workclass</th>\n",
              "      <th>education</th>\n",
              "      <th>marital-status</th>\n",
              "      <th>relationship</th>\n",
              "      <th>occupation</th>\n",
              "      <th>sex</th>\n",
              "      <th>native-country</th>\n",
              "      <th>income</th>\n",
              "    </tr>\n",
              "  </thead>\n",
              "  <tbody>\n",
              "    <tr>\n",
              "      <th>0</th>\n",
              "      <td>Faixa3</td>\n",
              "      <td>State-gov</td>\n",
              "      <td>Bachelors</td>\n",
              "      <td>Never-married</td>\n",
              "      <td>Not-in-family</td>\n",
              "      <td>Adm-clerical</td>\n",
              "      <td>Male</td>\n",
              "      <td>United-States</td>\n",
              "      <td>&lt;=50K</td>\n",
              "    </tr>\n",
              "    <tr>\n",
              "      <th>1</th>\n",
              "      <td>Faixa4</td>\n",
              "      <td>Self-emp-not-inc</td>\n",
              "      <td>Bachelors</td>\n",
              "      <td>Married-civ-spouse</td>\n",
              "      <td>Husband</td>\n",
              "      <td>Exec-managerial</td>\n",
              "      <td>Male</td>\n",
              "      <td>United-States</td>\n",
              "      <td>&lt;=50K</td>\n",
              "    </tr>\n",
              "    <tr>\n",
              "      <th>2</th>\n",
              "      <td>Faixa3</td>\n",
              "      <td>Private</td>\n",
              "      <td>HS-grad</td>\n",
              "      <td>Divorced</td>\n",
              "      <td>Not-in-family</td>\n",
              "      <td>Handlers-cleaners</td>\n",
              "      <td>Male</td>\n",
              "      <td>United-States</td>\n",
              "      <td>&lt;=50K</td>\n",
              "    </tr>\n",
              "  </tbody>\n",
              "</table>\n",
              "</div>\n",
              "      <button class=\"colab-df-convert\" onclick=\"convertToInteractive('df-f844860e-e4ef-40ee-943c-063d07c40067')\"\n",
              "              title=\"Convert this dataframe to an interactive table.\"\n",
              "              style=\"display:none;\">\n",
              "        \n",
              "  <svg xmlns=\"http://www.w3.org/2000/svg\" height=\"24px\"viewBox=\"0 0 24 24\"\n",
              "       width=\"24px\">\n",
              "    <path d=\"M0 0h24v24H0V0z\" fill=\"none\"/>\n",
              "    <path d=\"M18.56 5.44l.94 2.06.94-2.06 2.06-.94-2.06-.94-.94-2.06-.94 2.06-2.06.94zm-11 1L8.5 8.5l.94-2.06 2.06-.94-2.06-.94L8.5 2.5l-.94 2.06-2.06.94zm10 10l.94 2.06.94-2.06 2.06-.94-2.06-.94-.94-2.06-.94 2.06-2.06.94z\"/><path d=\"M17.41 7.96l-1.37-1.37c-.4-.4-.92-.59-1.43-.59-.52 0-1.04.2-1.43.59L10.3 9.45l-7.72 7.72c-.78.78-.78 2.05 0 2.83L4 21.41c.39.39.9.59 1.41.59.51 0 1.02-.2 1.41-.59l7.78-7.78 2.81-2.81c.8-.78.8-2.07 0-2.86zM5.41 20L4 18.59l7.72-7.72 1.47 1.35L5.41 20z\"/>\n",
              "  </svg>\n",
              "      </button>\n",
              "      \n",
              "  <style>\n",
              "    .colab-df-container {\n",
              "      display:flex;\n",
              "      flex-wrap:wrap;\n",
              "      gap: 12px;\n",
              "    }\n",
              "\n",
              "    .colab-df-convert {\n",
              "      background-color: #E8F0FE;\n",
              "      border: none;\n",
              "      border-radius: 50%;\n",
              "      cursor: pointer;\n",
              "      display: none;\n",
              "      fill: #1967D2;\n",
              "      height: 32px;\n",
              "      padding: 0 0 0 0;\n",
              "      width: 32px;\n",
              "    }\n",
              "\n",
              "    .colab-df-convert:hover {\n",
              "      background-color: #E2EBFA;\n",
              "      box-shadow: 0px 1px 2px rgba(60, 64, 67, 0.3), 0px 1px 3px 1px rgba(60, 64, 67, 0.15);\n",
              "      fill: #174EA6;\n",
              "    }\n",
              "\n",
              "    [theme=dark] .colab-df-convert {\n",
              "      background-color: #3B4455;\n",
              "      fill: #D2E3FC;\n",
              "    }\n",
              "\n",
              "    [theme=dark] .colab-df-convert:hover {\n",
              "      background-color: #434B5C;\n",
              "      box-shadow: 0px 1px 3px 1px rgba(0, 0, 0, 0.15);\n",
              "      filter: drop-shadow(0px 1px 2px rgba(0, 0, 0, 0.3));\n",
              "      fill: #FFFFFF;\n",
              "    }\n",
              "  </style>\n",
              "\n",
              "      <script>\n",
              "        const buttonEl =\n",
              "          document.querySelector('#df-f844860e-e4ef-40ee-943c-063d07c40067 button.colab-df-convert');\n",
              "        buttonEl.style.display =\n",
              "          google.colab.kernel.accessAllowed ? 'block' : 'none';\n",
              "\n",
              "        async function convertToInteractive(key) {\n",
              "          const element = document.querySelector('#df-f844860e-e4ef-40ee-943c-063d07c40067');\n",
              "          const dataTable =\n",
              "            await google.colab.kernel.invokeFunction('convertToInteractive',\n",
              "                                                     [key], {});\n",
              "          if (!dataTable) return;\n",
              "\n",
              "          const docLinkHtml = 'Like what you see? Visit the ' +\n",
              "            '<a target=\"_blank\" href=https://colab.research.google.com/notebooks/data_table.ipynb>data table notebook</a>'\n",
              "            + ' to learn more about interactive tables.';\n",
              "          element.innerHTML = '';\n",
              "          dataTable['output_type'] = 'display_data';\n",
              "          await google.colab.output.renderOutput(dataTable, element);\n",
              "          const docLink = document.createElement('div');\n",
              "          docLink.innerHTML = docLinkHtml;\n",
              "          element.appendChild(docLink);\n",
              "        }\n",
              "      </script>\n",
              "    </div>\n",
              "  </div>\n",
              "  "
            ]
          },
          "metadata": {},
          "execution_count": 19
        }
      ]
    },
    {
      "cell_type": "code",
      "source": [
        "data_apriori.shape, data.shape"
      ],
      "metadata": {
        "colab": {
          "base_uri": "https://localhost:8080/"
        },
        "id": "40gj7zu8UImq",
        "outputId": "aed59eb1-2601-4a1d-b58e-38b3d7c5fc95"
      },
      "execution_count": 21,
      "outputs": [
        {
          "output_type": "execute_result",
          "data": {
            "text/plain": [
              "((32561, 9), (32561, 15))"
            ]
          },
          "metadata": {},
          "execution_count": 21
        }
      ]
    },
    {
      "cell_type": "code",
      "source": [
        "#vamos fazer os testes, em uma porção menor dos dados, para que o processo seja mais rapido \n",
        "data_apriori = data_apriori.sample(n = 1000)\n",
        "data_apriori.shape"
      ],
      "metadata": {
        "colab": {
          "base_uri": "https://localhost:8080/"
        },
        "id": "38GqiVe5UPWh",
        "outputId": "c2e7225e-5aa7-431c-db37-7c304a6bc4fd"
      },
      "execution_count": 22,
      "outputs": [
        {
          "output_type": "execute_result",
          "data": {
            "text/plain": [
              "(1000, 9)"
            ]
          },
          "metadata": {},
          "execution_count": 22
        }
      ]
    },
    {
      "cell_type": "code",
      "source": [
        "transacoes = []\n",
        "for i in range(data_apriori.shape[0]):\n",
        "  transacoes.append([str(data_apriori.values[i, j]) for j in range(data_apriori.shape[1])])"
      ],
      "metadata": {
        "id": "kj7h4xCQVJGN"
      },
      "execution_count": 23,
      "outputs": []
    },
    {
      "cell_type": "code",
      "source": [
        "len(transacoes)"
      ],
      "metadata": {
        "colab": {
          "base_uri": "https://localhost:8080/"
        },
        "id": "GwR_24OWVtBH",
        "outputId": "f0163d66-5ee0-4901-b41b-99f12a3b6187"
      },
      "execution_count": 24,
      "outputs": [
        {
          "output_type": "execute_result",
          "data": {
            "text/plain": [
              "1000"
            ]
          },
          "metadata": {},
          "execution_count": 24
        }
      ]
    },
    {
      "cell_type": "code",
      "source": [
        "#estamos com os mesmos dados, porém agora no formato de lista. para que possamos manipular\n",
        "transacoes[:2]"
      ],
      "metadata": {
        "colab": {
          "base_uri": "https://localhost:8080/"
        },
        "id": "Kj794vA1VwdW",
        "outputId": "16137975-156f-437c-dd1b-f4cc0caef37f"
      },
      "execution_count": 25,
      "outputs": [
        {
          "output_type": "execute_result",
          "data": {
            "text/plain": [
              "[['Faixa4',\n",
              "  ' Local-gov',\n",
              "  ' Masters',\n",
              "  ' Married-civ-spouse',\n",
              "  ' Husband',\n",
              "  ' Prof-specialty',\n",
              "  ' Male',\n",
              "  ' United-States',\n",
              "  ' >50K'],\n",
              " ['Faixa4',\n",
              "  ' Self-emp-not-inc',\n",
              "  ' Bachelors',\n",
              "  ' Married-civ-spouse',\n",
              "  ' Husband',\n",
              "  ' Farming-fishing',\n",
              "  ' Male',\n",
              "  ' United-States',\n",
              "  ' <=50K']]"
            ]
          },
          "metadata": {},
          "execution_count": 25
        }
      ]
    },
    {
      "cell_type": "code",
      "source": [
        "!pip install apyori"
      ],
      "metadata": {
        "colab": {
          "base_uri": "https://localhost:8080/"
        },
        "id": "H0ba4WjbV080",
        "outputId": "0a8f307c-b245-4129-d919-a80e4e012413"
      },
      "execution_count": 26,
      "outputs": [
        {
          "output_type": "stream",
          "name": "stdout",
          "text": [
            "Looking in indexes: https://pypi.org/simple, https://us-python.pkg.dev/colab-wheels/public/simple/\n",
            "Collecting apyori\n",
            "  Downloading apyori-1.1.2.tar.gz (8.6 kB)\n",
            "Building wheels for collected packages: apyori\n",
            "  Building wheel for apyori (setup.py) ... \u001b[?25l\u001b[?25hdone\n",
            "  Created wheel for apyori: filename=apyori-1.1.2-py3-none-any.whl size=5974 sha256=89c2cca1d892ce9b0e6149860fcd24cbd3f487a4105f85abe469f85f4f8a6be8\n",
            "  Stored in directory: /root/.cache/pip/wheels/cb/f6/e1/57973c631d27efd1a2f375bd6a83b2a616c4021f24aab84080\n",
            "Successfully built apyori\n",
            "Installing collected packages: apyori\n",
            "Successfully installed apyori-1.1.2\n"
          ]
        }
      ]
    },
    {
      "cell_type": "code",
      "source": [
        "from apyori import apriori"
      ],
      "metadata": {
        "id": "t7a4kCbAWCgj"
      },
      "execution_count": 27,
      "outputs": []
    },
    {
      "cell_type": "code",
      "source": [
        "regras = apriori(transacoes, min_support = 0.3, min_confidence = 0.2)\n",
        "resultados = list(regras)"
      ],
      "metadata": {
        "id": "r91Gv_t2WGqV"
      },
      "execution_count": 28,
      "outputs": []
    },
    {
      "cell_type": "code",
      "source": [
        "len(resultados)"
      ],
      "metadata": {
        "colab": {
          "base_uri": "https://localhost:8080/"
        },
        "id": "y0-TCGonWSFb",
        "outputId": "ad19594e-a23e-48ed-c737-b87adb880e1c"
      },
      "execution_count": 29,
      "outputs": [
        {
          "output_type": "execute_result",
          "data": {
            "text/plain": [
              "38"
            ]
          },
          "metadata": {},
          "execution_count": 29
        }
      ]
    },
    {
      "cell_type": "code",
      "source": [
        "resultados"
      ],
      "metadata": {
        "colab": {
          "base_uri": "https://localhost:8080/"
        },
        "id": "PgA8eXkHWTbS",
        "outputId": "a0d5f2df-f4fa-4b3d-e46f-4fb46042aaae"
      },
      "execution_count": 30,
      "outputs": [
        {
          "output_type": "execute_result",
          "data": {
            "text/plain": [
              "[RelationRecord(items=frozenset({' <=50K'}), support=0.773, ordered_statistics=[OrderedStatistic(items_base=frozenset(), items_add=frozenset({' <=50K'}), confidence=0.773, lift=1.0)]),\n",
              " RelationRecord(items=frozenset({' Female'}), support=0.336, ordered_statistics=[OrderedStatistic(items_base=frozenset(), items_add=frozenset({' Female'}), confidence=0.336, lift=1.0)]),\n",
              " RelationRecord(items=frozenset({' HS-grad'}), support=0.324, ordered_statistics=[OrderedStatistic(items_base=frozenset(), items_add=frozenset({' HS-grad'}), confidence=0.324, lift=1.0)]),\n",
              " RelationRecord(items=frozenset({' Husband'}), support=0.393, ordered_statistics=[OrderedStatistic(items_base=frozenset(), items_add=frozenset({' Husband'}), confidence=0.393, lift=1.0)]),\n",
              " RelationRecord(items=frozenset({' Male'}), support=0.664, ordered_statistics=[OrderedStatistic(items_base=frozenset(), items_add=frozenset({' Male'}), confidence=0.664, lift=1.0)]),\n",
              " RelationRecord(items=frozenset({' Married-civ-spouse'}), support=0.448, ordered_statistics=[OrderedStatistic(items_base=frozenset(), items_add=frozenset({' Married-civ-spouse'}), confidence=0.448, lift=1.0)]),\n",
              " RelationRecord(items=frozenset({' Never-married'}), support=0.347, ordered_statistics=[OrderedStatistic(items_base=frozenset(), items_add=frozenset({' Never-married'}), confidence=0.347, lift=1.0)]),\n",
              " RelationRecord(items=frozenset({' Private'}), support=0.699, ordered_statistics=[OrderedStatistic(items_base=frozenset(), items_add=frozenset({' Private'}), confidence=0.699, lift=1.0)]),\n",
              " RelationRecord(items=frozenset({' United-States'}), support=0.9, ordered_statistics=[OrderedStatistic(items_base=frozenset(), items_add=frozenset({' United-States'}), confidence=0.9, lift=1.0)]),\n",
              " RelationRecord(items=frozenset({'Faixa3'}), support=0.372, ordered_statistics=[OrderedStatistic(items_base=frozenset(), items_add=frozenset({'Faixa3'}), confidence=0.372, lift=1.0)]),\n",
              " RelationRecord(items=frozenset({'Faixa4'}), support=0.345, ordered_statistics=[OrderedStatistic(items_base=frozenset(), items_add=frozenset({'Faixa4'}), confidence=0.345, lift=1.0)]),\n",
              " RelationRecord(items=frozenset({' Female', ' <=50K'}), support=0.305, ordered_statistics=[OrderedStatistic(items_base=frozenset(), items_add=frozenset({' Female', ' <=50K'}), confidence=0.305, lift=1.0), OrderedStatistic(items_base=frozenset({' <=50K'}), items_add=frozenset({' Female'}), confidence=0.3945666235446313, lift=1.1743054272161644), OrderedStatistic(items_base=frozenset({' Female'}), items_add=frozenset({' <=50K'}), confidence=0.9077380952380951, lift=1.1743054272161644)]),\n",
              " RelationRecord(items=frozenset({' Male', ' <=50K'}), support=0.468, ordered_statistics=[OrderedStatistic(items_base=frozenset(), items_add=frozenset({' Male', ' <=50K'}), confidence=0.468, lift=1.0), OrderedStatistic(items_base=frozenset({' <=50K'}), items_add=frozenset({' Male'}), confidence=0.6054333764553688, lift=0.9117972536978445), OrderedStatistic(items_base=frozenset({' Male'}), items_add=frozenset({' <=50K'}), confidence=0.7048192771084337, lift=0.9117972536978444)]),\n",
              " RelationRecord(items=frozenset({' Never-married', ' <=50K'}), support=0.336, ordered_statistics=[OrderedStatistic(items_base=frozenset(), items_add=frozenset({' Never-married', ' <=50K'}), confidence=0.336, lift=1.0), OrderedStatistic(items_base=frozenset({' <=50K'}), items_add=frozenset({' Never-married'}), confidence=0.4346701164294955, lift=1.2526516323616586), OrderedStatistic(items_base=frozenset({' Never-married'}), items_add=frozenset({' <=50K'}), confidence=0.9682997118155621, lift=1.2526516323616586)]),\n",
              " RelationRecord(items=frozenset({' <=50K', ' Private'}), support=0.552, ordered_statistics=[OrderedStatistic(items_base=frozenset(), items_add=frozenset({' <=50K', ' Private'}), confidence=0.552, lift=1.0), OrderedStatistic(items_base=frozenset({' <=50K'}), items_add=frozenset({' Private'}), confidence=0.7141009055627426, lift=1.0216035844960554), OrderedStatistic(items_base=frozenset({' Private'}), items_add=frozenset({' <=50K'}), confidence=0.7896995708154507, lift=1.0216035844960552)]),\n",
              " RelationRecord(items=frozenset({' <=50K', ' United-States'}), support=0.691, ordered_statistics=[OrderedStatistic(items_base=frozenset(), items_add=frozenset({' <=50K', ' United-States'}), confidence=0.691, lift=1.0), OrderedStatistic(items_base=frozenset({' <=50K'}), items_add=frozenset({' United-States'}), confidence=0.8939197930142302, lift=0.9932442144602558), OrderedStatistic(items_base=frozenset({' United-States'}), items_add=frozenset({' <=50K'}), confidence=0.7677777777777777, lift=0.9932442144602557)]),\n",
              " RelationRecord(items=frozenset({' Female', ' United-States'}), support=0.302, ordered_statistics=[OrderedStatistic(items_base=frozenset(), items_add=frozenset({' Female', ' United-States'}), confidence=0.302, lift=1.0), OrderedStatistic(items_base=frozenset({' Female'}), items_add=frozenset({' United-States'}), confidence=0.8988095238095237, lift=0.9986772486772486), OrderedStatistic(items_base=frozenset({' United-States'}), items_add=frozenset({' Female'}), confidence=0.33555555555555555, lift=0.9986772486772486)]),\n",
              " RelationRecord(items=frozenset({' Male', ' Husband'}), support=0.393, ordered_statistics=[OrderedStatistic(items_base=frozenset(), items_add=frozenset({' Male', ' Husband'}), confidence=0.393, lift=1.0), OrderedStatistic(items_base=frozenset({' Husband'}), items_add=frozenset({' Male'}), confidence=1.0, lift=1.506024096385542), OrderedStatistic(items_base=frozenset({' Male'}), items_add=frozenset({' Husband'}), confidence=0.5918674698795181, lift=1.5060240963855422)]),\n",
              " RelationRecord(items=frozenset({' Married-civ-spouse', ' Husband'}), support=0.392, ordered_statistics=[OrderedStatistic(items_base=frozenset(), items_add=frozenset({' Married-civ-spouse', ' Husband'}), confidence=0.392, lift=1.0), OrderedStatistic(items_base=frozenset({' Husband'}), items_add=frozenset({' Married-civ-spouse'}), confidence=0.9974554707379135, lift=2.2264631043257), OrderedStatistic(items_base=frozenset({' Married-civ-spouse'}), items_add=frozenset({' Husband'}), confidence=0.875, lift=2.2264631043256995)]),\n",
              " RelationRecord(items=frozenset({' United-States', ' Husband'}), support=0.352, ordered_statistics=[OrderedStatistic(items_base=frozenset(), items_add=frozenset({' Husband', ' United-States'}), confidence=0.352, lift=1.0), OrderedStatistic(items_base=frozenset({' Husband'}), items_add=frozenset({' United-States'}), confidence=0.8956743002544528, lift=0.995193666949392), OrderedStatistic(items_base=frozenset({' United-States'}), items_add=frozenset({' Husband'}), confidence=0.3911111111111111, lift=0.995193666949392)]),\n",
              " RelationRecord(items=frozenset({' Married-civ-spouse', ' Male'}), support=0.393, ordered_statistics=[OrderedStatistic(items_base=frozenset(), items_add=frozenset({' Married-civ-spouse', ' Male'}), confidence=0.393, lift=1.0), OrderedStatistic(items_base=frozenset({' Male'}), items_add=frozenset({' Married-civ-spouse'}), confidence=0.5918674698795181, lift=1.3211327452667814), OrderedStatistic(items_base=frozenset({' Married-civ-spouse'}), items_add=frozenset({' Male'}), confidence=0.8772321428571429, lift=1.3211327452667814)]),\n",
              " RelationRecord(items=frozenset({' Male', ' Private'}), support=0.448, ordered_statistics=[OrderedStatistic(items_base=frozenset(), items_add=frozenset({' Male', ' Private'}), confidence=0.448, lift=1.0), OrderedStatistic(items_base=frozenset({' Male'}), items_add=frozenset({' Private'}), confidence=0.6746987951807228, lift=0.9652343278694175), OrderedStatistic(items_base=frozenset({' Private'}), items_add=frozenset({' Male'}), confidence=0.6409155937052934, lift=0.9652343278694177)]),\n",
              " RelationRecord(items=frozenset({' Male', ' United-States'}), support=0.598, ordered_statistics=[OrderedStatistic(items_base=frozenset(), items_add=frozenset({' Male', ' United-States'}), confidence=0.598, lift=1.0), OrderedStatistic(items_base=frozenset({' Male'}), items_add=frozenset({' United-States'}), confidence=0.9006024096385541, lift=1.0006693440428378), OrderedStatistic(items_base=frozenset({' United-States'}), items_add=frozenset({' Male'}), confidence=0.6644444444444444, lift=1.0006693440428378)]),\n",
              " RelationRecord(items=frozenset({' Married-civ-spouse', ' United-States'}), support=0.394, ordered_statistics=[OrderedStatistic(items_base=frozenset(), items_add=frozenset({' Married-civ-spouse', ' United-States'}), confidence=0.394, lift=1.0), OrderedStatistic(items_base=frozenset({' Married-civ-spouse'}), items_add=frozenset({' United-States'}), confidence=0.8794642857142857, lift=0.9771825396825397), OrderedStatistic(items_base=frozenset({' United-States'}), items_add=frozenset({' Married-civ-spouse'}), confidence=0.43777777777777777, lift=0.9771825396825397)]),\n",
              " RelationRecord(items=frozenset({' Never-married', ' United-States'}), support=0.321, ordered_statistics=[OrderedStatistic(items_base=frozenset(), items_add=frozenset({' Never-married', ' United-States'}), confidence=0.321, lift=1.0), OrderedStatistic(items_base=frozenset({' Never-married'}), items_add=frozenset({' United-States'}), confidence=0.9250720461095102, lift=1.0278578290105669), OrderedStatistic(items_base=frozenset({' United-States'}), items_add=frozenset({' Never-married'}), confidence=0.3566666666666667, lift=1.0278578290105669)]),\n",
              " RelationRecord(items=frozenset({' Private', ' United-States'}), support=0.627, ordered_statistics=[OrderedStatistic(items_base=frozenset(), items_add=frozenset({' Private', ' United-States'}), confidence=0.627, lift=1.0), OrderedStatistic(items_base=frozenset({' Private'}), items_add=frozenset({' United-States'}), confidence=0.8969957081545065, lift=0.9966618979494516), OrderedStatistic(items_base=frozenset({' United-States'}), items_add=frozenset({' Private'}), confidence=0.6966666666666667, lift=0.9966618979494517)]),\n",
              " RelationRecord(items=frozenset({'Faixa3', ' United-States'}), support=0.332, ordered_statistics=[OrderedStatistic(items_base=frozenset(), items_add=frozenset({'Faixa3', ' United-States'}), confidence=0.332, lift=1.0), OrderedStatistic(items_base=frozenset({' United-States'}), items_add=frozenset({'Faixa3'}), confidence=0.3688888888888889, lift=0.991636798088411), OrderedStatistic(items_base=frozenset({'Faixa3'}), items_add=frozenset({' United-States'}), confidence=0.89247311827957, lift=0.9916367980884111)]),\n",
              " RelationRecord(items=frozenset({' United-States', 'Faixa4'}), support=0.303, ordered_statistics=[OrderedStatistic(items_base=frozenset(), items_add=frozenset({' United-States', 'Faixa4'}), confidence=0.303, lift=1.0), OrderedStatistic(items_base=frozenset({' United-States'}), items_add=frozenset({'Faixa4'}), confidence=0.33666666666666667, lift=0.9758454106280194), OrderedStatistic(items_base=frozenset({'Faixa4'}), items_add=frozenset({' United-States'}), confidence=0.8782608695652174, lift=0.9758454106280193)]),\n",
              " RelationRecord(items=frozenset({' Male', ' <=50K', ' Private'}), support=0.32, ordered_statistics=[OrderedStatistic(items_base=frozenset(), items_add=frozenset({' Male', ' Private', ' <=50K'}), confidence=0.32, lift=1.0), OrderedStatistic(items_base=frozenset({' <=50K'}), items_add=frozenset({' Male', ' Private'}), confidence=0.4139715394566624, lift=0.9240436148586213), OrderedStatistic(items_base=frozenset({' Male'}), items_add=frozenset({' <=50K', ' Private'}), confidence=0.4819277108433735, lift=0.8730574471800243), OrderedStatistic(items_base=frozenset({' Private'}), items_add=frozenset({' Male', ' <=50K'}), confidence=0.4577968526466381, lift=0.9781984030911071), OrderedStatistic(items_base=frozenset({' Male', ' <=50K'}), items_add=frozenset({' Private'}), confidence=0.6837606837606838, lift=0.9781984030911071), OrderedStatistic(items_base=frozenset({' <=50K', ' Private'}), items_add=frozenset({' Male'}), confidence=0.5797101449275361, lift=0.8730574471800243), OrderedStatistic(items_base=frozenset({' Male', ' Private'}), items_add=frozenset({' <=50K'}), confidence=0.7142857142857143, lift=0.9240436148586213)]),\n",
              " RelationRecord(items=frozenset({' Male', ' <=50K', ' United-States'}), support=0.417, ordered_statistics=[OrderedStatistic(items_base=frozenset(), items_add=frozenset({' United-States', ' Male', ' <=50K'}), confidence=0.417, lift=1.0), OrderedStatistic(items_base=frozenset({' <=50K'}), items_add=frozenset({' Male', ' United-States'}), confidence=0.5394566623544631, lift=0.9021014420643196), OrderedStatistic(items_base=frozenset({' Male'}), items_add=frozenset({' <=50K', ' United-States'}), confidence=0.628012048192771, lift=0.9088452216972085), OrderedStatistic(items_base=frozenset({' United-States'}), items_add=frozenset({' Male', ' <=50K'}), confidence=0.4633333333333333, lift=0.9900284900284899), OrderedStatistic(items_base=frozenset({' Male', ' <=50K'}), items_add=frozenset({' United-States'}), confidence=0.891025641025641, lift=0.9900284900284899), OrderedStatistic(items_base=frozenset({' <=50K', ' United-States'}), items_add=frozenset({' Male'}), confidence=0.6034732272069465, lift=0.9088452216972086), OrderedStatistic(items_base=frozenset({' Male', ' United-States'}), items_add=frozenset({' <=50K'}), confidence=0.697324414715719, lift=0.9021014420643195)]),\n",
              " RelationRecord(items=frozenset({' Never-married', ' <=50K', ' United-States'}), support=0.311, ordered_statistics=[OrderedStatistic(items_base=frozenset(), items_add=frozenset({' Never-married', ' <=50K', ' United-States'}), confidence=0.311, lift=1.0), OrderedStatistic(items_base=frozenset({' <=50K'}), items_add=frozenset({' Never-married', ' United-States'}), confidence=0.4023285899094437, lift=1.253360093175837), OrderedStatistic(items_base=frozenset({' Never-married'}), items_add=frozenset({' <=50K', ' United-States'}), confidence=0.8962536023054756, lift=1.2970384982713106), OrderedStatistic(items_base=frozenset({' United-States'}), items_add=frozenset({' Never-married', ' <=50K'}), confidence=0.34555555555555556, lift=1.0284391534391535), OrderedStatistic(items_base=frozenset({' Never-married', ' <=50K'}), items_add=frozenset({' United-States'}), confidence=0.925595238095238, lift=1.0284391534391533), OrderedStatistic(items_base=frozenset({' <=50K', ' United-States'}), items_add=frozenset({' Never-married'}), confidence=0.45007235890014474, lift=1.2970384982713106), OrderedStatistic(items_base=frozenset({' Never-married', ' United-States'}), items_add=frozenset({' <=50K'}), confidence=0.9688473520249221, lift=1.253360093175837)]),\n",
              " RelationRecord(items=frozenset({' <=50K', ' Private', ' United-States'}), support=0.49, ordered_statistics=[OrderedStatistic(items_base=frozenset(), items_add=frozenset({' <=50K', ' Private', ' United-States'}), confidence=0.49, lift=1.0), OrderedStatistic(items_base=frozenset({' <=50K'}), items_add=frozenset({' Private', ' United-States'}), confidence=0.6338939197930142, lift=1.0109950873891773), OrderedStatistic(items_base=frozenset({' Private'}), items_add=frozenset({' <=50K', ' United-States'}), confidence=0.7010014306151645, lift=1.0144738503837403), OrderedStatistic(items_base=frozenset({' United-States'}), items_add=frozenset({' <=50K', ' Private'}), confidence=0.5444444444444444, lift=0.9863123993558774), OrderedStatistic(items_base=frozenset({' <=50K', ' Private'}), items_add=frozenset({' United-States'}), confidence=0.8876811594202898, lift=0.9863123993558776), OrderedStatistic(items_base=frozenset({' <=50K', ' United-States'}), items_add=frozenset({' Private'}), confidence=0.7091172214182345, lift=1.0144738503837405), OrderedStatistic(items_base=frozenset({' Private', ' United-States'}), items_add=frozenset({' <=50K'}), confidence=0.7814992025518341, lift=1.0109950873891773)]),\n",
              " RelationRecord(items=frozenset({' Married-civ-spouse', ' Male', ' Husband'}), support=0.392, ordered_statistics=[OrderedStatistic(items_base=frozenset(), items_add=frozenset({' Married-civ-spouse', ' Male', ' Husband'}), confidence=0.392, lift=1.0), OrderedStatistic(items_base=frozenset({' Husband'}), items_add=frozenset({' Married-civ-spouse', ' Male'}), confidence=0.9974554707379135, lift=2.5380546329208995), OrderedStatistic(items_base=frozenset({' Male'}), items_add=frozenset({' Married-civ-spouse', ' Husband'}), confidence=0.5903614457831325, lift=1.5060240963855422), OrderedStatistic(items_base=frozenset({' Married-civ-spouse'}), items_add=frozenset({' Male', ' Husband'}), confidence=0.875, lift=2.2264631043256995), OrderedStatistic(items_base=frozenset({' Male', ' Husband'}), items_add=frozenset({' Married-civ-spouse'}), confidence=0.9974554707379135, lift=2.2264631043257), OrderedStatistic(items_base=frozenset({' Married-civ-spouse', ' Husband'}), items_add=frozenset({' Male'}), confidence=1.0, lift=1.506024096385542), OrderedStatistic(items_base=frozenset({' Married-civ-spouse', ' Male'}), items_add=frozenset({' Husband'}), confidence=0.9974554707379135, lift=2.5380546329208995)]),\n",
              " RelationRecord(items=frozenset({' United-States', ' Male', ' Husband'}), support=0.352, ordered_statistics=[OrderedStatistic(items_base=frozenset(), items_add=frozenset({' Male', ' Husband', ' United-States'}), confidence=0.352, lift=1.0), OrderedStatistic(items_base=frozenset({' Husband'}), items_add=frozenset({' Male', ' United-States'}), confidence=0.8956743002544528, lift=1.4977831107933994), OrderedStatistic(items_base=frozenset({' Male'}), items_add=frozenset({' Husband', ' United-States'}), confidence=0.5301204819277108, lift=1.506024096385542), OrderedStatistic(items_base=frozenset({' United-States'}), items_add=frozenset({' Male', ' Husband'}), confidence=0.3911111111111111, lift=0.995193666949392), OrderedStatistic(items_base=frozenset({' Male', ' Husband'}), items_add=frozenset({' United-States'}), confidence=0.8956743002544528, lift=0.995193666949392), OrderedStatistic(items_base=frozenset({' United-States', ' Husband'}), items_add=frozenset({' Male'}), confidence=1.0, lift=1.506024096385542), OrderedStatistic(items_base=frozenset({' Male', ' United-States'}), items_add=frozenset({' Husband'}), confidence=0.588628762541806, lift=1.4977831107933994)]),\n",
              " RelationRecord(items=frozenset({' United-States', ' Married-civ-spouse', ' Husband'}), support=0.351, ordered_statistics=[OrderedStatistic(items_base=frozenset(), items_add=frozenset({' Married-civ-spouse', ' Husband', ' United-States'}), confidence=0.351, lift=1.0), OrderedStatistic(items_base=frozenset({' Husband'}), items_add=frozenset({' Married-civ-spouse', ' United-States'}), confidence=0.8931297709923663, lift=2.2668268299298635), OrderedStatistic(items_base=frozenset({' Married-civ-spouse'}), items_add=frozenset({' Husband', ' United-States'}), confidence=0.7834821428571428, lift=2.225801542207792), OrderedStatistic(items_base=frozenset({' United-States'}), items_add=frozenset({' Married-civ-spouse', ' Husband'}), confidence=0.38999999999999996, lift=0.9948979591836733), OrderedStatistic(items_base=frozenset({' Married-civ-spouse', ' Husband'}), items_add=frozenset({' United-States'}), confidence=0.895408163265306, lift=0.9948979591836733), OrderedStatistic(items_base=frozenset({' United-States', ' Husband'}), items_add=frozenset({' Married-civ-spouse'}), confidence=0.9971590909090909, lift=2.225801542207792), OrderedStatistic(items_base=frozenset({' Married-civ-spouse', ' United-States'}), items_add=frozenset({' Husband'}), confidence=0.8908629441624365, lift=2.266826829929864)]),\n",
              " RelationRecord(items=frozenset({' Married-civ-spouse', ' Male', ' United-States'}), support=0.351, ordered_statistics=[OrderedStatistic(items_base=frozenset(), items_add=frozenset({' Married-civ-spouse', ' Male', ' United-States'}), confidence=0.351, lift=1.0), OrderedStatistic(items_base=frozenset({' Male'}), items_add=frozenset({' Married-civ-spouse', ' United-States'}), confidence=0.5286144578313252, lift=1.341661060485597), OrderedStatistic(items_base=frozenset({' Married-civ-spouse'}), items_add=frozenset({' Male', ' United-States'}), confidence=0.7834821428571428, lift=1.3101708074534162), OrderedStatistic(items_base=frozenset({' United-States'}), items_add=frozenset({' Married-civ-spouse', ' Male'}), confidence=0.38999999999999996, lift=0.9923664122137403), OrderedStatistic(items_base=frozenset({' Married-civ-spouse', ' Male'}), items_add=frozenset({' United-States'}), confidence=0.8931297709923663, lift=0.9923664122137403), OrderedStatistic(items_base=frozenset({' Male', ' United-States'}), items_add=frozenset({' Married-civ-spouse'}), confidence=0.5869565217391304, lift=1.310170807453416), OrderedStatistic(items_base=frozenset({' Married-civ-spouse', ' United-States'}), items_add=frozenset({' Male'}), confidence=0.8908629441624365, lift=1.341661060485597)]),\n",
              " RelationRecord(items=frozenset({' Male', ' Private', ' United-States'}), support=0.402, ordered_statistics=[OrderedStatistic(items_base=frozenset(), items_add=frozenset({' Male', ' Private', ' United-States'}), confidence=0.402, lift=1.0), OrderedStatistic(items_base=frozenset({' Male'}), items_add=frozenset({' Private', ' United-States'}), confidence=0.6054216867469879, lift=0.9655848273476682), OrderedStatistic(items_base=frozenset({' Private'}), items_add=frozenset({' Male', ' United-States'}), confidence=0.5751072961373391, lift=0.9617178865172895), OrderedStatistic(items_base=frozenset({' United-States'}), items_add=frozenset({' Male', ' Private'}), confidence=0.44666666666666666, lift=0.9970238095238095), OrderedStatistic(items_base=frozenset({' Male', ' Private'}), items_add=frozenset({' United-States'}), confidence=0.8973214285714286, lift=0.9970238095238095), OrderedStatistic(items_base=frozenset({' Male', ' United-States'}), items_add=frozenset({' Private'}), confidence=0.6722408026755854, lift=0.9617178865172896), OrderedStatistic(items_base=frozenset({' Private', ' United-States'}), items_add=frozenset({' Male'}), confidence=0.6411483253588517, lift=0.9655848273476682)]),\n",
              " RelationRecord(items=frozenset({' United-States', ' Married-civ-spouse', ' Male', ' Husband'}), support=0.351, ordered_statistics=[OrderedStatistic(items_base=frozenset(), items_add=frozenset({' United-States', ' Married-civ-spouse', ' Male', ' Husband'}), confidence=0.351, lift=1.0), OrderedStatistic(items_base=frozenset({' Husband'}), items_add=frozenset({' Married-civ-spouse', ' Male', ' United-States'}), confidence=0.8931297709923663, lift=2.544529262086514), OrderedStatistic(items_base=frozenset({' Male'}), items_add=frozenset({' Married-civ-spouse', ' Husband', ' United-States'}), confidence=0.5286144578313252, lift=1.506024096385542), OrderedStatistic(items_base=frozenset({' Married-civ-spouse'}), items_add=frozenset({' Male', ' Husband', ' United-States'}), confidence=0.7834821428571428, lift=2.225801542207792), OrderedStatistic(items_base=frozenset({' United-States'}), items_add=frozenset({' Married-civ-spouse', ' Male', ' Husband'}), confidence=0.38999999999999996, lift=0.9948979591836733), OrderedStatistic(items_base=frozenset({' Male', ' Husband'}), items_add=frozenset({' Married-civ-spouse', ' United-States'}), confidence=0.8931297709923663, lift=2.2668268299298635), OrderedStatistic(items_base=frozenset({' Married-civ-spouse', ' Husband'}), items_add=frozenset({' Male', ' United-States'}), confidence=0.895408163265306, lift=1.4973380656610469), OrderedStatistic(items_base=frozenset({' United-States', ' Husband'}), items_add=frozenset({' Married-civ-spouse', ' Male'}), confidence=0.9971590909090909, lift=2.537300485773768), OrderedStatistic(items_base=frozenset({' Married-civ-spouse', ' Male'}), items_add=frozenset({' Husband', ' United-States'}), confidence=0.8931297709923663, lift=2.537300485773768), OrderedStatistic(items_base=frozenset({' Male', ' United-States'}), items_add=frozenset({' Married-civ-spouse', ' Husband'}), confidence=0.5869565217391304, lift=1.4973380656610469), OrderedStatistic(items_base=frozenset({' Married-civ-spouse', ' United-States'}), items_add=frozenset({' Male', ' Husband'}), confidence=0.8908629441624365, lift=2.266826829929864), OrderedStatistic(items_base=frozenset({' Married-civ-spouse', ' Male', ' Husband'}), items_add=frozenset({' United-States'}), confidence=0.895408163265306, lift=0.9948979591836733), OrderedStatistic(items_base=frozenset({' United-States', ' Male', ' Husband'}), items_add=frozenset({' Married-civ-spouse'}), confidence=0.9971590909090909, lift=2.225801542207792), OrderedStatistic(items_base=frozenset({' United-States', ' Married-civ-spouse', ' Husband'}), items_add=frozenset({' Male'}), confidence=1.0, lift=1.506024096385542), OrderedStatistic(items_base=frozenset({' Married-civ-spouse', ' Male', ' United-States'}), items_add=frozenset({' Husband'}), confidence=1.0, lift=2.544529262086514)])]"
            ]
          },
          "metadata": {},
          "execution_count": 30
        }
      ]
    }
  ]
}